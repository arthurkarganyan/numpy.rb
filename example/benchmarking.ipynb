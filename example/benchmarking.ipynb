{
 "cells": [
  {
   "cell_type": "code",
   "execution_count": 1,
   "metadata": {},
   "outputs": [
    {
     "data": {
      "text/plain": [
       "\"4\""
      ]
     },
     "execution_count": 1,
     "metadata": {},
     "output_type": "execute_result"
    }
   ],
   "source": [
    "require 'benchmark'\n",
    "\n",
    "require 'numo/narray'\n",
    "require \"numo/linalg/linalg\"\n",
    "Numo::Linalg::Blas.dlopen(\"/opt/brew/opt/openblas/lib/libopenblas.dylib\")\n",
    "Numo::Linalg::Lapack.dlopen(\"/opt/brew/opt/openblas/lib/libopenblas.dylib\")\n",
    "\n",
    "require 'pycall'\n",
    "require 'numpy'\n",
    "scipy_blas = PyCall.import_module('scipy.linalg.blas')\n",
    "\n",
    "ENV['OMP_NUM_THREADS'] = '4'"
   ]
  },
  {
   "cell_type": "code",
   "execution_count": 4,
   "metadata": {},
   "outputs": [
    {
     "name": "stdout",
     "output_type": "stream",
     "text": [
      "[1500, 1500]\n",
      "[1500, 1500]\n",
      "(1500, 1500)\n",
      "(1500, 1500)\n"
     ]
    }
   ],
   "source": [
    "a = Numo::DFloat.new(1500,1500).seq\n",
    "b = Numo::DFloat.new(1500,1500).seq\n",
    "c = Numpy.arange(1500*1500, dtype: :float64).reshape(1500, 1500)\n",
    "d = Numpy.arange(1500*1500, dtype: :float64).reshape(1500, 1500)\n",
    "\n",
    "p a.shape\n",
    "p b.shape\n",
    "p c.shape\n",
    "p d.shape\n",
    "nil"
   ]
  },
  {
   "cell_type": "code",
   "execution_count": 10,
   "metadata": {},
   "outputs": [
    {
     "name": "stdout",
     "output_type": "stream",
     "text": [
      "numo-linalg      33.400000   1.460000  34.860000 (  5.738896)\n",
      "numpy-linalg     34.210000   1.440000  35.650000 (  9.099735)\n"
     ]
    }
   ],
   "source": [
    "n = 100\n",
    "Benchmark.benchmark('', 15) do |x|\n",
    "  x.report('numo-linalg')  { n.times{ Numo::Linalg::Blas.dgemm(a,b) } }\n",
    "  x.report('numpy-linalg') { n.times{ scipy_blas.dgemm(1.0, c, d) } }\n",
    "end\n",
    "nil"
   ]
  },
  {
   "cell_type": "code",
   "execution_count": null,
   "metadata": {
    "collapsed": true
   },
   "outputs": [],
   "source": []
  }
 ],
 "metadata": {
  "kernelspec": {
   "display_name": "Ruby 2.4.1",
   "language": "ruby",
   "name": "ruby"
  },
  "language_info": {
   "file_extension": ".rb",
   "mimetype": "application/x-ruby",
   "name": "ruby",
   "version": "2.4.1"
  },
  "toc": {
   "nav_menu": {},
   "number_sections": true,
   "sideBar": true,
   "skip_h1_title": false,
   "toc_cell": false,
   "toc_position": {},
   "toc_section_display": "block",
   "toc_window_display": false
  }
 },
 "nbformat": 4,
 "nbformat_minor": 2
}
